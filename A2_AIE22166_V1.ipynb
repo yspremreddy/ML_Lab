{
 "cells": [
  {
   "cell_type": "code",
   "execution_count": 1,
   "metadata": {},
   "outputs": [
    {
     "name": "stdout",
     "output_type": "stream",
     "text": [
      "Euclidean distance = 5.196152422706632\n",
      "Manhattan distance = 9\n"
     ]
    }
   ],
   "source": [
    "import math\n",
    "\n",
    "# To find the Euclidean Distance\n",
    "def euclidean_dist(a, b):\n",
    "    return math.sqrt(sum((x - y) ** 2 for x, y in zip(a, b)))\n",
    "\n",
    "# To find the Manhattan Distance\n",
    "def manhattan_dist(a, b):\n",
    "    return sum(abs(x - y) for x, y in zip(a, b))\n",
    "\n",
    "# Inputs of the Vectors to find Distances\n",
    "n = int(input(\"Enter the dimensions of the vector: \"))\n",
    "a = [int(input(f\"Enter the element a{i}: \")) for i in range(n)]\n",
    "b = [int(input(f\"Enter the element b{i}: \")) for i in range(n)]\n",
    "\n",
    "# Output \n",
    "euclidean_distance = euclidean_dist(a, b)\n",
    "manhattan_distance = manhattan_dist(a, b)\n",
    "\n",
    "print(f\"Euclidean distance = {euclidean_distance}\")\n",
    "print(f\"Manhattan distance = {manhattan_distance}\")"
   ]
  },
  {
   "cell_type": "code",
   "execution_count": 5,
   "metadata": {},
   "outputs": [
    {
     "name": "stdout",
     "output_type": "stream",
     "text": [
      "The indices of the 3 nearest neighbors in the training set are: [1 2 0]\n",
      "The predicted class for the test point is: A\n"
     ]
    }
   ],
   "source": [
    "import numpy as np\n",
    "\n",
    "# To calculate Euclidean Distance \n",
    "def euclidean_dist(a, b):\n",
    "    # To Calculate the squared differences element-wise\n",
    "    squared_diff = (a - b) ** 2\n",
    "    squared_distance = np.sum(squared_diff, axis=1)\n",
    "    return np.sqrt(squared_distance)\n",
    "\n",
    "# To get the prediction of the test set \n",
    "def k_nearest_neighbors(Numbers_train, y_train, x_test, k):\n",
    "    # To calculate distances from x_test to each point in Numbers_train\n",
    "    distances = euclidean_dist(Numbers_train, x_test)\n",
    "    \n",
    "    # To Get indices that would sort the distances array\n",
    "    sorted_indices = np.argsort(distances)\n",
    "    \n",
    "    # Select the first k neighbors\n",
    "    nearest_indices = sorted_indices[:k]\n",
    "    print(f\"The indices of the {k} nearest neighbors in the training set are: {nearest_indices}\")\n",
    "\n",
    "    # To Count the occurrences of each class among the neighbors\n",
    "    class_counts = {}\n",
    "    for idx in nearest_indices:\n",
    "        label = y_train[idx]\n",
    "        class_counts[label] = class_counts.get(label, 0) + 1\n",
    "\n",
    "    # Return the class label with the highest count\n",
    "    predicted_label = max(class_counts, key=class_counts.get)\n",
    "    return predicted_label\n",
    "\n",
    "# Example\n",
    "Numbers_train = np.array([[1, 2], [2, 3], [3, 4], [4, 5]])\n",
    "Features_train = np.array(['A', 'A', 'B', 'B'])\n",
    "test = np.array([2.5, 3.5])\n",
    "k_value = 3\n",
    "\n",
    "predicted_class = k_nearest_neighbors(Numbers_train, Features_train, test, k_value)\n",
    "print(f\"The predicted class for the test point is: {predicted_class}\")\n"
   ]
  },
  {
   "cell_type": "code",
   "execution_count": 4,
   "metadata": {},
   "outputs": [
    {
     "name": "stdout",
     "output_type": "stream",
     "text": [
      "The result using label encoding: [1, 2, 1, 0, 2, 0, 1]\n"
     ]
    }
   ],
   "source": [
    "def label_encoding(a):\n",
    "    # set of unique values \n",
    "    unique_values = set(a)\n",
    "    \n",
    "    # mapping unique values to their indices\n",
    "    unique_set = {}\n",
    "    for idx, val in enumerate(unique_values):\n",
    "        unique_set[val] = idx\n",
    "    \n",
    "    # Maping each value to its corresponding index \n",
    "    encoded_labels = []\n",
    "    for val in a:\n",
    "        encoded_labels.append(unique_set[val])\n",
    "    \n",
    "    return encoded_labels\n",
    "\n",
    "# Output \n",
    "a = [\"apple\", \"banana\", \"apple\", \"grapes\", \"banana\", \"grapes\", \"apple\"]\n",
    "b = label_encoding(a)\n",
    "print(f\"The result using label encoding: {b}\")"
   ]
  },
  {
   "cell_type": "code",
   "execution_count": 6,
   "metadata": {},
   "outputs": [
    {
     "name": "stdout",
     "output_type": "stream",
     "text": [
      "The result using one-hot encoding: [[0, 1, 0], [1, 0, 0], [0, 1, 0], [0, 0, 1], [1, 0, 0], [0, 0, 1], [0, 1, 0]]\n"
     ]
    }
   ],
   "source": [
    "def one_hot_encoding(a):\n",
    "\n",
    "    unique_map = {val: idx for idx, val in enumerate(set(a))}\n",
    "    \n",
    "    # Create one-hot encoded vectors for each item in 'a'\n",
    "    one_hot_encoded = []\n",
    "    for val in a:\n",
    "        # Initialize a list of zeros with length equal to the number of unique items\n",
    "        one_hot_vector = [0] * len(unique_map)\n",
    "        one_hot_vector[unique_map[val]] = 1\n",
    "        one_hot_encoded.append(one_hot_vector)\n",
    "\n",
    "    return one_hot_encoded\n",
    "\n",
    "# Output \n",
    "a = [\"red\", \"blue\", \"red\", \"green\", \"blue\", \"green\", \"red\"]\n",
    "b = one_hot_encoding(a)\n",
    "print(f\"The result using one-hot encoding: {b}\")\n"
   ]
  }
 ],
 "metadata": {
  "kernelspec": {
   "display_name": "Python 3",
   "language": "python",
   "name": "python3"
  },
  "language_info": {
   "codemirror_mode": {
    "name": "ipython",
    "version": 3
   },
   "file_extension": ".py",
   "mimetype": "text/x-python",
   "name": "python",
   "nbconvert_exporter": "python",
   "pygments_lexer": "ipython3",
   "version": "3.10.0"
  }
 },
 "nbformat": 4,
 "nbformat_minor": 2
}
