{
 "cells": [
  {
   "cell_type": "code",
   "execution_count": 2,
   "metadata": {},
   "outputs": [
    {
     "name": "stdout",
     "output_type": "stream",
     "text": [
      "Number of Vowels: 2 \n",
      "Number of Consonants 3\n"
     ]
    }
   ],
   "source": [
    "def  numberof_vowels_consonents(v):#function for finding the number of vowels and consonents\n",
    "    vowels=['a','e','i','o','u'] #vowels\n",
    "    vowelcount=0\n",
    "    consonantcount=0\n",
    "    for i in v:#logic for finding the required \n",
    "        if i.lower() in vowels:#lower() is used to ignore the casing\n",
    "            vowelcount+=1\n",
    "        else:\n",
    "            consonantcount+=1\n",
    "            \n",
    "    return vowelcount,consonantcount\n",
    "\n",
    "\n",
    "string =\"Apple\"  #example string\n",
    "[v,c]=numberof_vowels_consonents(string) #calling the function\n",
    "print(\"Number of Vowels:\",v,\"\\nNumber of Consonants\",c)#printing the number of consonents and vowels\n",
    "\n"
   ]
  },
  {
   "cell_type": "markdown",
   "metadata": {},
   "source": [
    "Question 2"
   ]
  },
  {
   "cell_type": "code",
   "execution_count": 3,
   "metadata": {},
   "outputs": [
    {
     "name": "stdout",
     "output_type": "stream",
     "text": [
      "Result of Matrix Multiplication:\n",
      " [[5, 0], [0, 0]]\n"
     ]
    }
   ],
   "source": [
    "\n",
    "def matrixmultiplication(v,c):#function for multiplication\n",
    "    if len(v[0])!=len(c):#Checks the columns of matrixA and rows of matrixB if both are equal or not\n",
    "        return \"The matrices cannot be multiplied\"\n",
    "    result = [[0 for x in range(len(c))] for y in range(len(v))]\n",
    "    #for Matix Multiplication\n",
    "    for i in range(len(v)):\n",
    "        for j in range(len(c[0])):\n",
    "            for k in range(len(c)):\n",
    "                result[i][j] += v[i][k]*c[k][j]   #logic for the multiplication and getting the resultant matrix\n",
    "                return result\n",
    "matrixA =[[1,2],[3,4]]\n",
    "matrixB =[[5,6],[7,8]]\n",
    "print(\"Result of Matrix Multiplication:\\n\",matrixmultiplication(matrixA,matrixB))  #calling the function for checking and multiplying the matrices \n",
    "\n"
   ]
  },
  {
   "cell_type": "markdown",
   "metadata": {},
   "source": [
    "Question 3"
   ]
  },
  {
   "cell_type": "code",
   "execution_count": 5,
   "metadata": {},
   "outputs": [
    {
     "name": "stdout",
     "output_type": "stream",
     "text": [
      "\n",
      "Common Elements:\n",
      "2\n"
     ]
    }
   ],
   "source": [
    "\n",
    "def number_of_the_common_elements(a,b):#functionn for finding the common elements in the 2 sets\n",
    "    common_elements=[]\n",
    "    for i in a:\n",
    "        if i in b and i not in common_elements: #if the item is present in both the sets then add the element to the common_elements sets\n",
    "            common_elements.append(i)\n",
    "            \n",
    "    return len(common_elements)\n",
    "    \n",
    " #the input for the lists   \n",
    "li1=[1,2,3,4,5]\n",
    "li2=[4,5,6,7,8]\n",
    "print(\"\\nCommon Elements:\")\n",
    "print(number_of_the_common_elements(li1,li2))#printing the common elements if it is present\n",
    "\n"
   ]
  },
  {
   "cell_type": "markdown",
   "metadata": {},
   "source": [
    "Question 4"
   ]
  },
  {
   "cell_type": "code",
   "execution_count": 11,
   "metadata": {},
   "outputs": [
    {
     "name": "stdout",
     "output_type": "stream",
     "text": [
      "Transpose of the matrix: [[1, 4], [2, 5], [3, 6]]\n"
     ]
    }
   ],
   "source": [
    "\n",
    "def transpose_of_the_matrix(v):#function for finding the transpose of the matrix\n",
    "    transposed_matrix = [[0 for x in range(len(v))] for y in range(len(v[0]))] #the result matrix\n",
    "    for i in range(len(v)):#logic for getting the transppose of the matrix\n",
    "        for j in range(len(v[0])):      \n",
    "            transposed_matrix[j][i] = v[i][j]\n",
    "    return transposed_matrix\n",
    "        \n",
    "orig_matrix=[[1,2,3],[4,5,6]]\n",
    "print(\"Transpose of the matrix:\",transpose_of_the_matrix(orig_matrix))\n",
    "\n",
    "\n",
    "        \n"
   ]
  }
 ],
 "metadata": {
  "kernelspec": {
   "display_name": "Python 3",
   "language": "python",
   "name": "python3"
  },
  "language_info": {
   "codemirror_mode": {
    "name": "ipython",
    "version": 3
   },
   "file_extension": ".py",
   "mimetype": "text/x-python",
   "name": "python",
   "nbconvert_exporter": "python",
   "pygments_lexer": "ipython3",
   "version": "3.10.0"
  }
 },
 "nbformat": 4,
 "nbformat_minor": 2
}
