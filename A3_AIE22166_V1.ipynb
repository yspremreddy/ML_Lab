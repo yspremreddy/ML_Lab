{
 "cells": [
  {
   "cell_type": "code",
   "execution_count": 5,
   "metadata": {},
   "outputs": [
    {
     "name": "stdout",
     "output_type": "stream",
     "text": [
      "Feature Matrix X:\n",
      "   Candies (#)  Mangoes (Kg)  Milk Packets (#)\n",
      "0           20             6                 2\n",
      "1           16             3                 6\n",
      "2           27             6                 2\n",
      "3           19             1                 2\n",
      "4           24             4                 2\n",
      "5           22             1                 5\n",
      "6           15             4                 2\n",
      "7           18             4                 2\n",
      "8           21             1                 4\n",
      "9           16             2                 4\n",
      "\n",
      "Target Vector y:\n",
      "0    386\n",
      "1    289\n",
      "2    393\n",
      "3    110\n",
      "4    280\n",
      "5    167\n",
      "6    271\n",
      "7    274\n",
      "8    148\n",
      "9    198\n",
      "Name: Payment (Rs), dtype: int64\n",
      "\n",
      "Dimensionality of the feature space: 3\n",
      "Number of samples in the dataset: 10\n",
      "\n",
      "Rank of Feature Matrix X: 3\n",
      "\n",
      "Pseudo-inverse of Feature Matrix X:\n",
      "[[-0.01008596 -0.03124505  0.01013951  0.0290728   0.0182907   0.01161794\n",
      "  -0.00771348  0.00095458  0.01743623 -0.00542016]\n",
      " [ 0.09059668  0.07263726  0.03172933 -0.09071908 -0.01893196 -0.06926996\n",
      "   0.05675464  0.03152577 -0.07641966  0.00357352]\n",
      " [ 0.00299878  0.15874243 -0.05795468 -0.06609024 -0.06295043  0.03348017\n",
      "   0.01541831 -0.01070461  0.00029003  0.05938755]]\n"
     ]
    }
   ],
   "source": [
    "import pandas as pd\n",
    "import numpy as np\n",
    "\n",
    "# To Load data from Excel file\n",
    "file_path = r\"C:\\Users\\YSPRE\\Downloads\\Lab Session1 Data.xlsx\"\n",
    "# To Load the Excel file into a DataFrame\n",
    "purchase_data = pd.read_excel(file_path, sheet_name='Purchase data')\n",
    "\n",
    "# Extracting features (matrix X) and target (vector y)\n",
    "# Matrix X contains the features (columns 1, 2, and 3)\n",
    "X = purchase_data.iloc[:, 1:4]\n",
    "# Vector y contains the target variable (column 4)\n",
    "y = purchase_data.iloc[:, 4]\n",
    "\n",
    "# To display the feature matrix X and target vector y\n",
    "print(\"Feature Matrix X:\")\n",
    "print(X)\n",
    "print(\"\\nTarget Vector y:\")\n",
    "print(y)\n",
    "\n",
    "# To calculate the dimensionality of the feature space\n",
    "dimensionality = X.shape[1]\n",
    "print(f\"\\nDimensionality of the feature space: {dimensionality}\")\n",
    "\n",
    "# To calculate the number of samples in the dataset\n",
    "num_samples = X.shape[0]\n",
    "print(f\"Number of samples in the dataset: {num_samples}\")\n",
    "\n",
    "# To calculate the rank of the feature matrix X\n",
    "rank_X = np.linalg.matrix_rank(X)\n",
    "print(f\"\\nRank of Feature Matrix X: {rank_X}\")\n",
    "\n",
    "# To calculate the pseudo-inverse of the feature matrix X\n",
    "X_pseudo_inverse = np.linalg.pinv(X)\n",
    "print(\"\\nPseudo-inverse of Feature Matrix X:\")\n",
    "print(X_pseudo_inverse)"
   ]
  },
  {
   "cell_type": "code",
   "execution_count": 9,
   "metadata": {},
   "outputs": [
    {
     "name": "stdout",
     "output_type": "stream",
     "text": [
      "Cost of each product using Pseudo-Inverse:\n",
      "Product 1: 0.9999999999999989\n",
      "Product 2: 54.99999999999999\n",
      "Product 3: 18.0\n"
     ]
    }
   ],
   "source": [
    "# Calculate the cost of each product using pseudo-inverse\n",
    "product_costs = np.dot(X_pseudo_inverse, y)\n",
    "# Display the product costs\n",
    "print(\"Cost of each product using Pseudo-Inverse:\")\n",
    "for i, cost in enumerate(product_costs):\n",
    "    print(f\"Product {i+1}: {cost}\")\n"
   ]
  },
  {
   "cell_type": "code",
   "execution_count": 13,
   "metadata": {},
   "outputs": [
    {
     "name": "stdout",
     "output_type": "stream",
     "text": [
      "Predicted class: POOR\n"
     ]
    }
   ],
   "source": [
    "import pandas as pd\n",
    "import numpy as np\n",
    "\n",
    "# To calculate Euclidean distance between two points\n",
    "def euclidean_distance(point1, point2):\n",
    "    return np.sqrt(np.sum((np.array(point1) - np.array(point2)) ** 2))\n",
    "\n",
    "# To predict the class of a query point based on k-nearest neighbors\n",
    "def predict_class_knn(training_data, labels, query_point, k):\n",
    "    # To calculate distances between the query point and all training data points\n",
    "    distances = [euclidean_distance(query_point, data_point) for data_point in training_data]\n",
    "    # To find the indices of the k nearest neighbors\n",
    "    nearest_indices = np.argsort(distances)[:k]\n",
    "    # To get the labels of the k nearest neighbors\n",
    "    nearest_labels = [labels[i] for i in nearest_indices]\n",
    "    # Predict the class \n",
    "    predicted_class = max(set(nearest_labels), key=nearest_labels.count)\n",
    "    return predicted_class\n",
    "\n",
    "# To load data from an Excel file\n",
    "def load_data_from_excel(file_path):\n",
    "    return pd.read_excel(file_path)\n",
    "\n",
    "if __name__ == \"__main__\":\n",
    "    file_path = r\"C:\\Users\\YSPRE\\Downloads\\Lab Session1 Data.xlsx\"\n",
    "    # To load data from the Excel file\n",
    "    data_frame = load_data_from_excel(file_path)\n",
    "\n",
    "    # Mark customers as RICH or POOR based on Payment (Rs) amount\n",
    "    data_frame['Class'] = np.where(data_frame['Payment (Rs)'] > 200, 'RICH', 'POOR')  # Corrected column name\n",
    "\n",
    "    # Prepare features (X) and target (y)\n",
    "    X_features = data_frame[['Candies (#)', 'Mangoes (Kg)', 'Milk Packets (#)']].values\n",
    "    y_target = data_frame['Class'].values\n",
    "\n",
    "    # Training data and labels\n",
    "    training_data_points = X_features\n",
    "    training_labels = y_target\n",
    "\n",
    "    query_point_to_classify = [19, 1, 2]\n",
    "    # Number of neighbors to consider\n",
    "    num_neighbors = 3\n",
    "\n",
    "    # Predict the class of the query point using k-nearest neighbors\n",
    "    predicted_class = predict_class_knn(training_data_points, training_labels, query_point_to_classify, num_neighbors)\n",
    "    print(\"Predicted class:\", predicted_class)\n"
   ]
  },
  {
   "cell_type": "code",
   "execution_count": 15,
   "metadata": {},
   "outputs": [
    {
     "name": "stdout",
     "output_type": "stream",
     "text": [
      "Mean Price: 1560.663453815261\n",
      "Variance of Price: 58732.365352539186\n",
      "Sample Mean of Wednesday Prices: 1550.706\n",
      "Sample Mean of April Prices: 1698.9526315789474\n",
      "Probability of making a loss: 0.4979919678714859\n",
      "Probability of making a profit on Wednesday: 0.5\n",
      "Conditional Probability of making profit given today is Wednesday: 0.01\n"
     ]
    },
    {
     "data": {
      "image/png": "[encoded data removed]",
      "text/plain": [
       "<Figure size 640x480 with 1 Axes>"
      ]
     },
     "metadata": {},
     "output_type": "display_data"
    }
   ],
   "source": [
    "import pandas as pd\n",
    "import statistics\n",
    "import matplotlib.pyplot as plt\n",
    "\n",
    "file_path = r\"C:\\Users\\YSPRE\\Downloads\\Lab Session1 Data.xlsx\"\n",
    "df_stock = pd.read_excel(file_path, sheet_name='IRCTC Stock Price')\n",
    "\n",
    "# To calculate mean and variance of Price data\n",
    "price_mean = statistics.mean(df_stock['Price'])\n",
    "price_variance = statistics.variance(df_stock['Price'])\n",
    "\n",
    "print(f\"Mean Price: {price_mean}\")\n",
    "print(f\"Variance of Price: {price_variance}\")\n",
    "\n",
    "# To Calculate sample mean of prices for all Wednesdays\n",
    "wednesday_prices = df_stock[df_stock['Day'] == 'Wed']['Price']\n",
    "wednesday_mean = statistics.mean(wednesday_prices)\n",
    "\n",
    "print(f\"Sample Mean of Wednesday Prices: {wednesday_mean}\")\n",
    "\n",
    "# To Calculate sample mean of prices for the month of April\n",
    "april_prices = df_stock[df_stock['Month'] == 'Apr']['Price']\n",
    "april_mean = statistics.mean(april_prices)\n",
    "\n",
    "print(f\"Sample Mean of April Prices: {april_mean}\")\n",
    "\n",
    "# To Calculate the probability of making a loss over the stock\n",
    "loss_probability = len(df_stock[df_stock['Chg%'] < 0]) / len(df_stock)\n",
    "print(f\"Probability of making a loss: {loss_probability}\")\n",
    "\n",
    "# To Calculate the probability of making a profit on Wednesday\n",
    "wednesday_profit_probability = len(wednesday_prices[wednesday_prices.diff() > 0]) / len(wednesday_prices)\n",
    "print(f\"Probability of making a profit on Wednesday: {wednesday_profit_probability}\")\n",
    "\n",
    "# To Calculate the conditional probability of making a profit given today is Wednesday\n",
    "conditional_profit_given_wednesday = wednesday_profit_probability / len(df_stock[df_stock['Day'] == 'Wed'])\n",
    "print(f\"Conditional Probability of making profit given today is Wednesday: {conditional_profit_given_wednesday}\")\n",
    "\n",
    "# Scatter plot of Chg% data against the day of the week\n",
    "plt.scatter(df_stock['Day'], df_stock['Chg%'])\n",
    "plt.xlabel('Day of the Week')\n",
    "plt.ylabel('Chg%')\n",
    "plt.title('Scatter Plot of Chg% against Day of the Week')\n",
    "plt.show()\n"
   ]
  }
 ],
 "metadata": {
  "kernelspec": {
   "display_name": "Python 3",
   "language": "python",
   "name": "python3"
  },
  "language_info": {
   "codemirror_mode": {
    "name": "ipython",
    "version": 3
   },
   "file_extension": ".py",
   "mimetype": "text/x-python",
   "name": "python",
   "nbconvert_exporter": "python",
   "pygments_lexer": "ipython3",
   "version": "3.10.0"
  }
 },
 "nbformat": 4,
 "nbformat_minor": 2
}
